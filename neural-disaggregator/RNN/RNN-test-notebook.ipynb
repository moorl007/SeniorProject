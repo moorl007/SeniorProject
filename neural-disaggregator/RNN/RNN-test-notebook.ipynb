{
 "cells": [
  {
   "cell_type": "markdown",
   "metadata": {},
   "source": [
    "# Test Notebook to work on configurations without needing to train/test every time"
   ]
  },
  {
   "cell_type": "markdown",
   "metadata": {},
   "source": [
    "First of all, we need to train the RNNDisaggregator using the train data. For this example, both train and test data are consumption data of the microwave of the first REDD building."
   ]
  },
  {
   "cell_type": "code",
   "execution_count": 1,
   "metadata": {
    "collapsed": true
   },
   "outputs": [],
   "source": [
    "import warnings; warnings.filterwarnings('ignore')\n",
    "\n",
    "from nilmtk import DataSet\n",
    "\n",
    "train = DataSet('C:/Users/zebzi/Documents/School/Senior_Year/EE_4951W/SeniorProject/SeniorDataset/h5_files/Zeb_test.h5')\n",
    "# except:\n",
    "#     train = DataSet('/SeniorDataset/h5_files/Zeb_test.h5')\n",
    "    \n",
    "train.set_window(start=\"1-1-2022\", end=\"2-1-2022\")\n",
    "train_elec = train.buildings[1].elec"
   ]
  },
  {
   "cell_type": "markdown",
   "metadata": {},
   "source": [
    "Next, we need to define the disaggregator model."
   ]
  },
  {
   "cell_type": "code",
   "execution_count": 2,
   "metadata": {},
   "outputs": [
    {
     "name": "stdout",
     "output_type": "stream",
     "text": [
      "You must install pydot (`pip install pydot`) and install graphviz (see instructions at https://graphviz.gitlab.io/download/) for plot_model to work.\n"
     ]
    }
   ],
   "source": [
    "from rnndisaggregator import RNNDisaggregator\n",
    "rnn = RNNDisaggregator()"
   ]
  },
  {
   "cell_type": "markdown",
   "metadata": {},
   "source": [
    "Then train the model. We need to input the train data as well as their sample period. Also, we need to pass the desired number of training epochs. Finally, save the model for later use."
   ]
  },
  {
   "cell_type": "code",
   "execution_count": 3,
   "metadata": {},
   "outputs": [
    {
     "name": "stdout",
     "output_type": "stream",
     "text": [
      "MeterGroup(meters=\n",
      "  ElecMeter(instance=1, building=1, dataset='Senior Design Dataset', site_meter, appliances=[])\n",
      "  ElecMeter(instance=2, building=1, dataset='Senior Design Dataset', appliances=[Appliance(type='fridge', instance=1)])\n",
      "  ElecMeter(instance=3, building=1, dataset='Senior Design Dataset', appliances=[Appliance(type='kettle', instance=1)])\n",
      "  ElecMeter(instance=4, building=1, dataset='Senior Design Dataset', appliances=[Appliance(type='computer', instance=1)])\n",
      "  ElecMeter(instance=5, building=1, dataset='Senior Design Dataset', appliances=[Appliance(type='microwave', instance=1)])\n",
      "  ElecMeter(instance=6, building=1, dataset='Senior Design Dataset', appliances=[Appliance(type='toaster', instance=1)])\n",
      "  ElecMeter(instance=7, building=1, dataset='Senior Design Dataset', appliances=[Appliance(type='hair dryer', instance=1)])\n",
      ")\n"
     ]
    },
    {
     "ename": "TypeError",
     "evalue": "float() argument must be a string or a number, not 'Timestamp'",
     "output_type": "error",
     "traceback": [
      "\u001b[1;31m---------------------------------------------------------------------------\u001b[0m",
      "\u001b[1;31mTypeError\u001b[0m                                 Traceback (most recent call last)",
      "Cell \u001b[1;32mIn [3], line 9\u001b[0m\n\u001b[0;32m      6\u001b[0m train_mains \u001b[39m=\u001b[39m train_elec\u001b[39m.\u001b[39mmains()\n\u001b[0;32m      7\u001b[0m \u001b[39mprint\u001b[39m(train_elec)\n\u001b[1;32m----> 9\u001b[0m rnn\u001b[39m.\u001b[39;49mtrain(train_mains, train_meter, epochs\u001b[39m=\u001b[39;49m\u001b[39m1\u001b[39;49m, sample_period\u001b[39m=\u001b[39;49m\u001b[39m1\u001b[39;49m)\n\u001b[0;32m     10\u001b[0m rnn\u001b[39m.\u001b[39mexport_model(\u001b[39m\"\u001b[39m\u001b[39mmodel-Zeb_test.h5\u001b[39m\u001b[39m\"\u001b[39m)\n",
      "File \u001b[1;32mc:\\Users\\zebzi\\Documents\\School\\Senior_Year\\EE_4951W\\SeniorProject\\neural-disaggregator\\RNN\\rnndisaggregator.py:59\u001b[0m, in \u001b[0;36mRNNDisaggregator.train\u001b[1;34m(self, mains, meter, epochs, batch_size, **load_kwargs)\u001b[0m\n\u001b[0;32m     57\u001b[0m \u001b[39m# Train chunks\u001b[39;00m\n\u001b[0;32m     58\u001b[0m run \u001b[39m=\u001b[39m \u001b[39mTrue\u001b[39;00m\n\u001b[1;32m---> 59\u001b[0m mainchunk \u001b[39m=\u001b[39m \u001b[39mnext\u001b[39;49m(main_power_series)\n\u001b[0;32m     60\u001b[0m meterchunk \u001b[39m=\u001b[39m \u001b[39mnext\u001b[39m(meter_power_series)\n\u001b[0;32m     61\u001b[0m \u001b[39mif\u001b[39;00m \u001b[39mself\u001b[39m\u001b[39m.\u001b[39mmmax \u001b[39m==\u001b[39m \u001b[39mNone\u001b[39;00m:\n",
      "File \u001b[1;32mc:\\Users\\zebzi\\anaconda3\\envs\\nilmWork\\lib\\site-packages\\nilmtk\\electric.py:626\u001b[0m, in \u001b[0;36mElectric.load_series\u001b[1;34m(self, **kwargs)\u001b[0m\n\u001b[0;32m    624\u001b[0m physical_quantity \u001b[39m=\u001b[39m kwargs[\u001b[39m'\u001b[39m\u001b[39mphysical_quantity\u001b[39m\u001b[39m'\u001b[39m]\n\u001b[0;32m    625\u001b[0m generator \u001b[39m=\u001b[39m \u001b[39mself\u001b[39m\u001b[39m.\u001b[39mload(\u001b[39m*\u001b[39m\u001b[39m*\u001b[39mkwargs)\n\u001b[1;32m--> 626\u001b[0m \u001b[39mfor\u001b[39;00m chunk \u001b[39min\u001b[39;00m generator:\n\u001b[0;32m    627\u001b[0m     \u001b[39mif\u001b[39;00m chunk\u001b[39m.\u001b[39mempty:\n\u001b[0;32m    628\u001b[0m         \u001b[39myield\u001b[39;00m chunk\n",
      "File \u001b[1;32mc:\\Users\\zebzi\\anaconda3\\envs\\nilmWork\\lib\\site-packages\\nilmtk\\preprocessing\\apply.py:13\u001b[0m, in \u001b[0;36mApply.process\u001b[1;34m(self)\u001b[0m\n\u001b[0;32m     11\u001b[0m \u001b[39mdef\u001b[39;00m \u001b[39mprocess\u001b[39m(\u001b[39mself\u001b[39m):\n\u001b[0;32m     12\u001b[0m     \u001b[39mself\u001b[39m\u001b[39m.\u001b[39mcheck_requirements()\n\u001b[1;32m---> 13\u001b[0m     \u001b[39mfor\u001b[39;00m chunk \u001b[39min\u001b[39;00m \u001b[39mself\u001b[39m\u001b[39m.\u001b[39mupstream\u001b[39m.\u001b[39mprocess():\n\u001b[0;32m     14\u001b[0m         new_chunk \u001b[39m=\u001b[39m \u001b[39mself\u001b[39m\u001b[39m.\u001b[39mfunc(chunk)\n\u001b[0;32m     15\u001b[0m         new_chunk\u001b[39m.\u001b[39mtimeframe \u001b[39m=\u001b[39m chunk\u001b[39m.\u001b[39mtimeframe\n",
      "File \u001b[1;32mc:\\Users\\zebzi\\anaconda3\\envs\\nilmWork\\lib\\site-packages\\nilmtk\\datastore\\hdfdatastore.py:84\u001b[0m, in \u001b[0;36mHDFDataStore.load\u001b[1;34m(self, key, columns, sections, n_look_ahead_rows, chunksize, verbose)\u001b[0m\n\u001b[0;32m     82\u001b[0m \u001b[39melse\u001b[39;00m:\n\u001b[0;32m     83\u001b[0m     \u001b[39mtry\u001b[39;00m:\n\u001b[1;32m---> 84\u001b[0m         coords \u001b[39m=\u001b[39m \u001b[39mself\u001b[39;49m\u001b[39m.\u001b[39;49mstore\u001b[39m.\u001b[39;49mselect_as_coordinates(key\u001b[39m=\u001b[39;49mkey, where\u001b[39m=\u001b[39;49mterms)\n\u001b[0;32m     85\u001b[0m     \u001b[39mexcept\u001b[39;00m \u001b[39mAttributeError\u001b[39;00m \u001b[39mas\u001b[39;00m e:\n\u001b[0;32m     86\u001b[0m         \u001b[39mif\u001b[39;00m \u001b[39mstr\u001b[39m(e) \u001b[39m==\u001b[39m (\u001b[39m\"\u001b[39m\u001b[39m'\u001b[39m\u001b[39mNoneType\u001b[39m\u001b[39m'\u001b[39m\u001b[39m object has no attribute \u001b[39m\u001b[39m\"\u001b[39m\n\u001b[0;32m     87\u001b[0m                       \u001b[39m\"\u001b[39m\u001b[39m'\u001b[39m\u001b[39mread_coordinates\u001b[39m\u001b[39m'\u001b[39m\u001b[39m\"\u001b[39m):\n",
      "File \u001b[1;32mc:\\Users\\zebzi\\anaconda3\\envs\\nilmWork\\lib\\site-packages\\pandas\\io\\pytables.py:837\u001b[0m, in \u001b[0;36mHDFStore.select_as_coordinates\u001b[1;34m(self, key, where, start, stop)\u001b[0m\n\u001b[0;32m    835\u001b[0m \u001b[39mif\u001b[39;00m \u001b[39mnot\u001b[39;00m \u001b[39misinstance\u001b[39m(tbl, Table):\n\u001b[0;32m    836\u001b[0m     \u001b[39mraise\u001b[39;00m \u001b[39mTypeError\u001b[39;00m(\u001b[39m\"\u001b[39m\u001b[39mcan only read_coordinates with a table\u001b[39m\u001b[39m\"\u001b[39m)\n\u001b[1;32m--> 837\u001b[0m \u001b[39mreturn\u001b[39;00m tbl\u001b[39m.\u001b[39;49mread_coordinates(where\u001b[39m=\u001b[39;49mwhere, start\u001b[39m=\u001b[39;49mstart, stop\u001b[39m=\u001b[39;49mstop)\n",
      "File \u001b[1;32mc:\\Users\\zebzi\\anaconda3\\envs\\nilmWork\\lib\\site-packages\\pandas\\io\\pytables.py:4029\u001b[0m, in \u001b[0;36mTable.read_coordinates\u001b[1;34m(self, where, start, stop)\u001b[0m\n\u001b[0;32m   4026\u001b[0m     \u001b[39mreturn\u001b[39;00m \u001b[39mFalse\u001b[39;00m\n\u001b[0;32m   4028\u001b[0m \u001b[39m# create the selection\u001b[39;00m\n\u001b[1;32m-> 4029\u001b[0m selection \u001b[39m=\u001b[39m Selection(\u001b[39mself\u001b[39;49m, where\u001b[39m=\u001b[39;49mwhere, start\u001b[39m=\u001b[39;49mstart, stop\u001b[39m=\u001b[39;49mstop)\n\u001b[0;32m   4030\u001b[0m coords \u001b[39m=\u001b[39m selection\u001b[39m.\u001b[39mselect_coords()\n\u001b[0;32m   4031\u001b[0m \u001b[39mif\u001b[39;00m selection\u001b[39m.\u001b[39mfilter \u001b[39mis\u001b[39;00m \u001b[39mnot\u001b[39;00m \u001b[39mNone\u001b[39;00m:\n",
      "File \u001b[1;32mc:\\Users\\zebzi\\anaconda3\\envs\\nilmWork\\lib\\site-packages\\pandas\\io\\pytables.py:5065\u001b[0m, in \u001b[0;36mSelection.__init__\u001b[1;34m(self, table, where, start, stop)\u001b[0m\n\u001b[0;32m   5063\u001b[0m \u001b[39m# create the numexpr & the filter\u001b[39;00m\n\u001b[0;32m   5064\u001b[0m \u001b[39mif\u001b[39;00m \u001b[39mself\u001b[39m\u001b[39m.\u001b[39mterms \u001b[39mis\u001b[39;00m \u001b[39mnot\u001b[39;00m \u001b[39mNone\u001b[39;00m:\n\u001b[1;32m-> 5065\u001b[0m     \u001b[39mself\u001b[39m\u001b[39m.\u001b[39mcondition, \u001b[39mself\u001b[39m\u001b[39m.\u001b[39mfilter \u001b[39m=\u001b[39m \u001b[39mself\u001b[39;49m\u001b[39m.\u001b[39;49mterms\u001b[39m.\u001b[39;49mevaluate()\n",
      "File \u001b[1;32mc:\\Users\\zebzi\\anaconda3\\envs\\nilmWork\\lib\\site-packages\\pandas\\core\\computation\\pytables.py:577\u001b[0m, in \u001b[0;36mPyTablesExpr.evaluate\u001b[1;34m(self)\u001b[0m\n\u001b[0;32m    574\u001b[0m \u001b[39m\"\"\" create and return the numexpr condition and filter \"\"\"\u001b[39;00m\n\u001b[0;32m    576\u001b[0m \u001b[39mtry\u001b[39;00m:\n\u001b[1;32m--> 577\u001b[0m     \u001b[39mself\u001b[39m\u001b[39m.\u001b[39mcondition \u001b[39m=\u001b[39m \u001b[39mself\u001b[39;49m\u001b[39m.\u001b[39;49mterms\u001b[39m.\u001b[39;49mprune(ConditionBinOp)\n\u001b[0;32m    578\u001b[0m \u001b[39mexcept\u001b[39;00m \u001b[39mAttributeError\u001b[39;00m:\n\u001b[0;32m    579\u001b[0m     \u001b[39mraise\u001b[39;00m \u001b[39mValueError\u001b[39;00m(\n\u001b[0;32m    580\u001b[0m         \u001b[39mf\u001b[39m\u001b[39m\"\u001b[39m\u001b[39mcannot process expression [\u001b[39m\u001b[39m{\u001b[39;00m\u001b[39mself\u001b[39m\u001b[39m.\u001b[39mexpr\u001b[39m}\u001b[39;00m\u001b[39m], [\u001b[39m\u001b[39m{\u001b[39;00m\u001b[39mself\u001b[39m\u001b[39m}\u001b[39;00m\u001b[39m] \u001b[39m\u001b[39m\"\u001b[39m\n\u001b[0;32m    581\u001b[0m         \u001b[39m\"\u001b[39m\u001b[39mis not a valid condition\u001b[39m\u001b[39m\"\u001b[39m\n\u001b[0;32m    582\u001b[0m     )\n",
      "File \u001b[1;32mc:\\Users\\zebzi\\anaconda3\\envs\\nilmWork\\lib\\site-packages\\pandas\\core\\computation\\pytables.py:134\u001b[0m, in \u001b[0;36mBinOp.prune\u001b[1;34m(self, klass)\u001b[0m\n\u001b[0;32m    132\u001b[0m     res \u001b[39m=\u001b[39m pr(left\u001b[39m.\u001b[39mvalue, right\u001b[39m.\u001b[39mprune(klass))\n\u001b[0;32m    133\u001b[0m \u001b[39melif\u001b[39;00m \u001b[39mnot\u001b[39;00m (is_term(left) \u001b[39mor\u001b[39;00m is_term(right)):\n\u001b[1;32m--> 134\u001b[0m     res \u001b[39m=\u001b[39m pr(left\u001b[39m.\u001b[39;49mprune(klass), right\u001b[39m.\u001b[39mprune(klass))\n\u001b[0;32m    136\u001b[0m \u001b[39mreturn\u001b[39;00m res\n",
      "File \u001b[1;32mc:\\Users\\zebzi\\anaconda3\\envs\\nilmWork\\lib\\site-packages\\pandas\\core\\computation\\pytables.py:128\u001b[0m, in \u001b[0;36mBinOp.prune\u001b[1;34m(self, klass)\u001b[0m\n\u001b[0;32m    125\u001b[0m left, right \u001b[39m=\u001b[39m \u001b[39mself\u001b[39m\u001b[39m.\u001b[39mlhs, \u001b[39mself\u001b[39m\u001b[39m.\u001b[39mrhs\n\u001b[0;32m    127\u001b[0m \u001b[39mif\u001b[39;00m is_term(left) \u001b[39mand\u001b[39;00m is_term(right):\n\u001b[1;32m--> 128\u001b[0m     res \u001b[39m=\u001b[39m pr(left\u001b[39m.\u001b[39;49mvalue, right\u001b[39m.\u001b[39;49mvalue)\n\u001b[0;32m    129\u001b[0m \u001b[39melif\u001b[39;00m \u001b[39mnot\u001b[39;00m is_term(left) \u001b[39mand\u001b[39;00m is_term(right):\n\u001b[0;32m    130\u001b[0m     res \u001b[39m=\u001b[39m pr(left\u001b[39m.\u001b[39mprune(klass), right\u001b[39m.\u001b[39mvalue)\n",
      "File \u001b[1;32mc:\\Users\\zebzi\\anaconda3\\envs\\nilmWork\\lib\\site-packages\\pandas\\core\\computation\\pytables.py:121\u001b[0m, in \u001b[0;36mBinOp.prune.<locals>.pr\u001b[1;34m(left, right)\u001b[0m\n\u001b[0;32m    118\u001b[0m     \u001b[39melif\u001b[39;00m \u001b[39misinstance\u001b[39m(right, k):\n\u001b[0;32m    119\u001b[0m         \u001b[39mreturn\u001b[39;00m right\n\u001b[1;32m--> 121\u001b[0m \u001b[39mreturn\u001b[39;00m k(\n\u001b[0;32m    122\u001b[0m     \u001b[39mself\u001b[39;49m\u001b[39m.\u001b[39;49mop, left, right, queryables\u001b[39m=\u001b[39;49m\u001b[39mself\u001b[39;49m\u001b[39m.\u001b[39;49mqueryables, encoding\u001b[39m=\u001b[39;49m\u001b[39mself\u001b[39;49m\u001b[39m.\u001b[39;49mencoding\n\u001b[0;32m    123\u001b[0m )\u001b[39m.\u001b[39;49mevaluate()\n",
      "File \u001b[1;32mc:\\Users\\zebzi\\anaconda3\\envs\\nilmWork\\lib\\site-packages\\pandas\\core\\computation\\pytables.py:336\u001b[0m, in \u001b[0;36mConditionBinOp.evaluate\u001b[1;34m(self)\u001b[0m\n\u001b[0;32m    333\u001b[0m     \u001b[39mreturn\u001b[39;00m \u001b[39mNone\u001b[39;00m\n\u001b[0;32m    335\u001b[0m rhs \u001b[39m=\u001b[39m \u001b[39mself\u001b[39m\u001b[39m.\u001b[39mconform(\u001b[39mself\u001b[39m\u001b[39m.\u001b[39mrhs)\n\u001b[1;32m--> 336\u001b[0m values \u001b[39m=\u001b[39m [\u001b[39mself\u001b[39m\u001b[39m.\u001b[39mconvert_value(v) \u001b[39mfor\u001b[39;00m v \u001b[39min\u001b[39;00m rhs]\n\u001b[0;32m    338\u001b[0m \u001b[39m# equality conditions\u001b[39;00m\n\u001b[0;32m    339\u001b[0m \u001b[39mif\u001b[39;00m \u001b[39mself\u001b[39m\u001b[39m.\u001b[39mop \u001b[39min\u001b[39;00m [\u001b[39m\"\u001b[39m\u001b[39m==\u001b[39m\u001b[39m\"\u001b[39m, \u001b[39m\"\u001b[39m\u001b[39m!=\u001b[39m\u001b[39m\"\u001b[39m]:\n\u001b[0;32m    340\u001b[0m \n\u001b[0;32m    341\u001b[0m     \u001b[39m# too many values to create the expression?\u001b[39;00m\n",
      "File \u001b[1;32mc:\\Users\\zebzi\\anaconda3\\envs\\nilmWork\\lib\\site-packages\\pandas\\core\\computation\\pytables.py:336\u001b[0m, in \u001b[0;36m<listcomp>\u001b[1;34m(.0)\u001b[0m\n\u001b[0;32m    333\u001b[0m     \u001b[39mreturn\u001b[39;00m \u001b[39mNone\u001b[39;00m\n\u001b[0;32m    335\u001b[0m rhs \u001b[39m=\u001b[39m \u001b[39mself\u001b[39m\u001b[39m.\u001b[39mconform(\u001b[39mself\u001b[39m\u001b[39m.\u001b[39mrhs)\n\u001b[1;32m--> 336\u001b[0m values \u001b[39m=\u001b[39m [\u001b[39mself\u001b[39;49m\u001b[39m.\u001b[39;49mconvert_value(v) \u001b[39mfor\u001b[39;00m v \u001b[39min\u001b[39;00m rhs]\n\u001b[0;32m    338\u001b[0m \u001b[39m# equality conditions\u001b[39;00m\n\u001b[0;32m    339\u001b[0m \u001b[39mif\u001b[39;00m \u001b[39mself\u001b[39m\u001b[39m.\u001b[39mop \u001b[39min\u001b[39;00m [\u001b[39m\"\u001b[39m\u001b[39m==\u001b[39m\u001b[39m\"\u001b[39m, \u001b[39m\"\u001b[39m\u001b[39m!=\u001b[39m\u001b[39m\"\u001b[39m]:\n\u001b[0;32m    340\u001b[0m \n\u001b[0;32m    341\u001b[0m     \u001b[39m# too many values to create the expression?\u001b[39;00m\n",
      "File \u001b[1;32mc:\\Users\\zebzi\\anaconda3\\envs\\nilmWork\\lib\\site-packages\\pandas\\core\\computation\\pytables.py:211\u001b[0m, in \u001b[0;36mBinOp.convert_value\u001b[1;34m(self, v)\u001b[0m\n\u001b[0;32m    209\u001b[0m     \u001b[39mreturn\u001b[39;00m TermValue(result, result, \u001b[39m\"\u001b[39m\u001b[39minteger\u001b[39m\u001b[39m\"\u001b[39m)\n\u001b[0;32m    210\u001b[0m \u001b[39melif\u001b[39;00m kind \u001b[39m==\u001b[39m \u001b[39m\"\u001b[39m\u001b[39minteger\u001b[39m\u001b[39m\"\u001b[39m:\n\u001b[1;32m--> 211\u001b[0m     v \u001b[39m=\u001b[39m \u001b[39mint\u001b[39m(\u001b[39mfloat\u001b[39;49m(v))\n\u001b[0;32m    212\u001b[0m     \u001b[39mreturn\u001b[39;00m TermValue(v, v, kind)\n\u001b[0;32m    213\u001b[0m \u001b[39melif\u001b[39;00m kind \u001b[39m==\u001b[39m \u001b[39m\"\u001b[39m\u001b[39mfloat\u001b[39m\u001b[39m\"\u001b[39m:\n",
      "\u001b[1;31mTypeError\u001b[0m: float() argument must be a string or a number, not 'Timestamp'"
     ]
    }
   ],
   "source": [
    "meter_key = 'kettle'\n",
    "# train_mains = train_elec.mains().all_meters()[0] # The aggregated meter that provides the input\n",
    "# train_meter = train_elec.submeters()['microwave'] # The microwave meter that is used as a training target\n",
    "\n",
    "train_meter = train_elec.submeters()[meter_key]\n",
    "train_mains = train_elec.mains()\n",
    "print(train_elec)\n",
    "\n",
    "rnn.train(train_mains, train_meter, epochs=1, sample_period=1)\n",
    "rnn.export_model(\"model-Zeb_test.h5\")"
   ]
  },
  {
   "cell_type": "markdown",
   "metadata": {},
   "source": [
    "Now that the model is trained, we can use it to disaggregate energy data. Let's test it on the rest of the data from building 1.\n",
    "\n",
    "First we use the model to predict the microwave consumption. The results are saved automatically in a .h5 datastore."
   ]
  },
  {
   "cell_type": "code",
   "execution_count": null,
   "metadata": {},
   "outputs": [],
   "source": [
    "# Configure the <test> dataset and set the test_mains variable\n",
    "try:\n",
    "    test = DataSet('ukdale.h5')\n",
    "except:\n",
    "    test = DataSet('/SeniorProject/neural-disaggregator/RNN/ukdale.h5')\n",
    "\n",
    "test.set_window(start=\"1-1-2014\", end=\"2-1-2014\")\n",
    "print(test.buildings[1].elec)\n",
    "test_elec = test.buildings[1].elec\n",
    "# test_mains = test_elec.mains().all_meters()[0]\n",
    "test_mains = test_elec.mains()\n",
    "# print(test_mains)\n",
    "\n"
   ]
  },
  {
   "cell_type": "code",
   "execution_count": null,
   "metadata": {},
   "outputs": [],
   "source": [
    "disag_filename = 'disag-out.h5' # The filename of the resulting datastore\n",
    "from nilmtk.datastore import HDFDataStore\n",
    "output = HDFDataStore(disag_filename, 'w')\n",
    "\n",
    "# test_mains: The aggregated signal meter\n",
    "# output: The output datastore\n",
    "# train_meter: This is used in order to copy the metadata of the train meter into the datastore\n",
    "rnn.disaggregate(test_mains, output, train_meter, sample_period=1)\n",
    "output.close()\n",
    "# output = HDFDataStore(disag_filename, 'r') why is this code here?\n"
   ]
  },
  {
   "cell_type": "markdown",
   "metadata": {},
   "source": [
    "Let's plot the results and compare them to the ground truth signal.\n",
    "\n",
    "**Note:** Calling plot this way, downsamples the signal to reduce computing time. To plot the entire signal call\n",
    "```\n",
    "predicted.power_series_all_data().plot()\n",
    "ground_truth.power_series_all_data().plot()\n",
    "```"
   ]
  },
  {
   "cell_type": "code",
   "execution_count": null,
   "metadata": {},
   "outputs": [],
   "source": [
    "result = DataSet(disag_filename)\n",
    "res_elec = result.buildings[1].elec\n",
    "predicted = res_elec['kettle']\n",
    "ground_truth = test_elec['kettle']\n",
    "\n",
    "import matplotlib.pyplot as plt\n",
    "predicted.plot(plot_kwargs={'color':'red', 'label':'Predicted'})\n",
    "ground_truth.plot(plot_kwargs={'color':'green', 'label':'Ground Truth'})\n",
    "plt.show()"
   ]
  },
  {
   "cell_type": "markdown",
   "metadata": {},
   "source": [
    "Finally let's see the metric results."
   ]
  },
  {
   "cell_type": "code",
   "execution_count": null,
   "metadata": {},
   "outputs": [],
   "source": [
    "import metrics\n",
    "rpaf = metrics.recall_precision_accuracy_f1(predicted, ground_truth)\n",
    "print(\"============ Recall: {}\".format(rpaf[0]))\n",
    "print(\"============ Precision: {}\".format(rpaf[1]))\n",
    "print(\"============ Accuracy: {}\".format(rpaf[2]))\n",
    "print(\"============ F1 Score: {}\".format(rpaf[3]))\n",
    "\n",
    "print(\"============ Relative error in total energy: {}\".format(metrics.relative_error_total_energy(predicted, ground_truth)))\n",
    "print(\"============ Mean absolute error(in Watts): {}\".format(metrics.mean_absolute_error(predicted, ground_truth)))"
   ]
  }
 ],
 "metadata": {
  "anaconda-cloud": {},
  "kernelspec": {
   "display_name": "Python 3.8.13 ('nilmWork')",
   "language": "python",
   "name": "python3"
  },
  "language_info": {
   "codemirror_mode": {
    "name": "ipython",
    "version": 3
   },
   "file_extension": ".py",
   "mimetype": "text/x-python",
   "name": "python",
   "nbconvert_exporter": "python",
   "pygments_lexer": "ipython3",
   "version": "3.8.13"
  },
  "vscode": {
   "interpreter": {
    "hash": "090649b4642754db491605a7822e0ee72996d5555d9c4842996866e4da46c183"
   }
  }
 },
 "nbformat": 4,
 "nbformat_minor": 2
}
