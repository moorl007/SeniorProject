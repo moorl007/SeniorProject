{
 "cells": [
  {
   "cell_type": "markdown",
   "metadata": {},
   "source": [
    "# Test Notebook to work on configurations without needing to train/test every time"
   ]
  },
  {
   "cell_type": "markdown",
   "metadata": {},
   "source": [
    "First of all, we need to train the RNNDisaggregator using the train data. For this example, both train and test data are consumption data of the microwave of the first REDD building."
   ]
  },
  {
   "cell_type": "code",
   "execution_count": 1,
   "metadata": {
    "collapsed": true
   },
   "outputs": [
    {
     "ename": "KeyError",
     "evalue": "ElecMeterID(instance=1, building=1, dataset='Senior Design Dataset')",
     "output_type": "error",
     "traceback": [
      "\u001b[1;31m---------------------------------------------------------------------------\u001b[0m",
      "\u001b[1;31mKeyError\u001b[0m                                  Traceback (most recent call last)",
      "Cell \u001b[1;32mIn [1], line 5\u001b[0m\n\u001b[0;32m      1\u001b[0m \u001b[39mimport\u001b[39;00m \u001b[39mwarnings\u001b[39;00m; warnings\u001b[39m.\u001b[39mfilterwarnings(\u001b[39m'\u001b[39m\u001b[39mignore\u001b[39m\u001b[39m'\u001b[39m)\n\u001b[0;32m      3\u001b[0m \u001b[39mfrom\u001b[39;00m \u001b[39mnilmtk\u001b[39;00m \u001b[39mimport\u001b[39;00m DataSet\n\u001b[1;32m----> 5\u001b[0m train \u001b[39m=\u001b[39m DataSet(\u001b[39m'\u001b[39;49m\u001b[39mC:/Users/zebzi/Documents/School/Senior_Year/EE_4951W/SeniorProject/SeniorDataset/h5_files/96HourZEB_test.h5\u001b[39;49m\u001b[39m'\u001b[39;49m)\n\u001b[0;32m      6\u001b[0m \u001b[39m# except:\u001b[39;00m\n\u001b[0;32m      7\u001b[0m \u001b[39m#     train = DataSet('/SeniorDataset/h5_files/Zeb_test.h5')\u001b[39;00m\n\u001b[0;32m      9\u001b[0m train\u001b[39m.\u001b[39mset_window(start\u001b[39m=\u001b[39m\u001b[39m'\u001b[39m\u001b[39m2022-01-01\u001b[39m\u001b[39m'\u001b[39m, end\u001b[39m=\u001b[39m\u001b[39m'\u001b[39m\u001b[39m2022-01-02\u001b[39m\u001b[39m'\u001b[39m)\n",
      "File \u001b[1;32mc:\\Users\\zebzi\\anaconda3\\envs\\nilmWork\\lib\\site-packages\\nilmtk\\dataset.py:45\u001b[0m, in \u001b[0;36mDataSet.__init__\u001b[1;34m(self, filename, format)\u001b[0m\n\u001b[0;32m     43\u001b[0m \u001b[39mself\u001b[39m\u001b[39m.\u001b[39mmetadata \u001b[39m=\u001b[39m {}\n\u001b[0;32m     44\u001b[0m \u001b[39mif\u001b[39;00m filename \u001b[39mis\u001b[39;00m \u001b[39mnot\u001b[39;00m \u001b[39mNone\u001b[39;00m:\n\u001b[1;32m---> 45\u001b[0m     \u001b[39mself\u001b[39;49m\u001b[39m.\u001b[39;49mimport_metadata(get_datastore(filename, \u001b[39mformat\u001b[39;49m))\n",
      "File \u001b[1;32mc:\\Users\\zebzi\\anaconda3\\envs\\nilmWork\\lib\\site-packages\\nilmtk\\dataset.py:55\u001b[0m, in \u001b[0;36mDataSet.import_metadata\u001b[1;34m(self, store)\u001b[0m\n\u001b[0;32m     53\u001b[0m \u001b[39mself\u001b[39m\u001b[39m.\u001b[39mstore \u001b[39m=\u001b[39m store\n\u001b[0;32m     54\u001b[0m \u001b[39mself\u001b[39m\u001b[39m.\u001b[39mmetadata \u001b[39m=\u001b[39m store\u001b[39m.\u001b[39mload_metadata()\n\u001b[1;32m---> 55\u001b[0m \u001b[39mself\u001b[39;49m\u001b[39m.\u001b[39;49m_init_buildings(store)\n\u001b[0;32m     56\u001b[0m \u001b[39mreturn\u001b[39;00m \u001b[39mself\u001b[39m\n",
      "File \u001b[1;32mc:\\Users\\zebzi\\anaconda3\\envs\\nilmWork\\lib\\site-packages\\nilmtk\\dataset.py:68\u001b[0m, in \u001b[0;36mDataSet._init_buildings\u001b[1;34m(self, store)\u001b[0m\n\u001b[0;32m     66\u001b[0m \u001b[39mfor\u001b[39;00m b_key \u001b[39min\u001b[39;00m buildings:\n\u001b[0;32m     67\u001b[0m     building \u001b[39m=\u001b[39m Building()\n\u001b[1;32m---> 68\u001b[0m     building\u001b[39m.\u001b[39;49mimport_metadata(\n\u001b[0;32m     69\u001b[0m         store, \u001b[39m'\u001b[39;49m\u001b[39m/\u001b[39;49m\u001b[39m'\u001b[39;49m\u001b[39m+\u001b[39;49mb_key, \u001b[39mself\u001b[39;49m\u001b[39m.\u001b[39;49mmetadata\u001b[39m.\u001b[39;49mget(\u001b[39m'\u001b[39;49m\u001b[39mname\u001b[39;49m\u001b[39m'\u001b[39;49m))\n\u001b[0;32m     70\u001b[0m     \u001b[39mself\u001b[39m\u001b[39m.\u001b[39mbuildings[building\u001b[39m.\u001b[39midentifier\u001b[39m.\u001b[39minstance] \u001b[39m=\u001b[39m building\n",
      "File \u001b[1;32mc:\\Users\\zebzi\\anaconda3\\envs\\nilmWork\\lib\\site-packages\\nilmtk\\building.py:31\u001b[0m, in \u001b[0;36mBuilding.import_metadata\u001b[1;34m(self, store, key, dataset_name)\u001b[0m\n\u001b[0;32m     29\u001b[0m elec_meters \u001b[39m=\u001b[39m \u001b[39mself\u001b[39m\u001b[39m.\u001b[39mmetadata\u001b[39m.\u001b[39mpop(\u001b[39m'\u001b[39m\u001b[39melec_meters\u001b[39m\u001b[39m'\u001b[39m, {})\n\u001b[0;32m     30\u001b[0m appliances \u001b[39m=\u001b[39m \u001b[39mself\u001b[39m\u001b[39m.\u001b[39mmetadata\u001b[39m.\u001b[39mpop(\u001b[39m'\u001b[39m\u001b[39mappliances\u001b[39m\u001b[39m'\u001b[39m, [])\n\u001b[1;32m---> 31\u001b[0m \u001b[39mself\u001b[39;49m\u001b[39m.\u001b[39;49melec\u001b[39m.\u001b[39;49mimport_metadata(store, elec_meters, appliances, \u001b[39mself\u001b[39;49m\u001b[39m.\u001b[39;49midentifier)\n",
      "File \u001b[1;32mc:\\Users\\zebzi\\anaconda3\\envs\\nilmWork\\lib\\site-packages\\nilmtk\\metergroup.py:121\u001b[0m, in \u001b[0;36mMeterGroup.import_metadata\u001b[1;34m(self, store, elec_meters, appliances, building_id)\u001b[0m\n\u001b[0;32m    118\u001b[0m \u001b[39melse\u001b[39;00m:\n\u001b[0;32m    119\u001b[0m     \u001b[39m# DualSupply or 3-phase appliance so need a meter group\u001b[39;00m\n\u001b[0;32m    120\u001b[0m     metergroup \u001b[39m=\u001b[39m MeterGroup()\n\u001b[1;32m--> 121\u001b[0m     metergroup\u001b[39m.\u001b[39mmeters \u001b[39m=\u001b[39m [\u001b[39mself\u001b[39m[meter_id] \u001b[39mfor\u001b[39;00m meter_id \u001b[39min\u001b[39;00m meter_ids]\n\u001b[0;32m    122\u001b[0m     \u001b[39mfor\u001b[39;00m meter \u001b[39min\u001b[39;00m metergroup\u001b[39m.\u001b[39mmeters:\n\u001b[0;32m    123\u001b[0m         \u001b[39m# We assume that any meters used for measuring\u001b[39;00m\n\u001b[0;32m    124\u001b[0m         \u001b[39m# dual-supply or 3-phase appliances are not also used\u001b[39;00m\n\u001b[0;32m    125\u001b[0m         \u001b[39m# for measuring single-supply appliances.\u001b[39;00m\n\u001b[0;32m    126\u001b[0m         \u001b[39mself\u001b[39m\u001b[39m.\u001b[39mmeters\u001b[39m.\u001b[39mremove(meter)\n",
      "File \u001b[1;32mc:\\Users\\zebzi\\anaconda3\\envs\\nilmWork\\lib\\site-packages\\nilmtk\\metergroup.py:121\u001b[0m, in \u001b[0;36m<listcomp>\u001b[1;34m(.0)\u001b[0m\n\u001b[0;32m    118\u001b[0m \u001b[39melse\u001b[39;00m:\n\u001b[0;32m    119\u001b[0m     \u001b[39m# DualSupply or 3-phase appliance so need a meter group\u001b[39;00m\n\u001b[0;32m    120\u001b[0m     metergroup \u001b[39m=\u001b[39m MeterGroup()\n\u001b[1;32m--> 121\u001b[0m     metergroup\u001b[39m.\u001b[39mmeters \u001b[39m=\u001b[39m [\u001b[39mself\u001b[39;49m[meter_id] \u001b[39mfor\u001b[39;00m meter_id \u001b[39min\u001b[39;00m meter_ids]\n\u001b[0;32m    122\u001b[0m     \u001b[39mfor\u001b[39;00m meter \u001b[39min\u001b[39;00m metergroup\u001b[39m.\u001b[39mmeters:\n\u001b[0;32m    123\u001b[0m         \u001b[39m# We assume that any meters used for measuring\u001b[39;00m\n\u001b[0;32m    124\u001b[0m         \u001b[39m# dual-supply or 3-phase appliances are not also used\u001b[39;00m\n\u001b[0;32m    125\u001b[0m         \u001b[39m# for measuring single-supply appliances.\u001b[39;00m\n\u001b[0;32m    126\u001b[0m         \u001b[39mself\u001b[39m\u001b[39m.\u001b[39mmeters\u001b[39m.\u001b[39mremove(meter)\n",
      "File \u001b[1;32mc:\\Users\\zebzi\\anaconda3\\envs\\nilmWork\\lib\\site-packages\\nilmtk\\metergroup.py:230\u001b[0m, in \u001b[0;36mMeterGroup.__getitem__\u001b[1;34m(self, key)\u001b[0m\n\u001b[0;32m    228\u001b[0m             \u001b[39mif\u001b[39;00m meter\u001b[39m.\u001b[39midentifier \u001b[39m==\u001b[39m key:\n\u001b[0;32m    229\u001b[0m                 \u001b[39mreturn\u001b[39;00m meter\n\u001b[1;32m--> 230\u001b[0m     \u001b[39mraise\u001b[39;00m \u001b[39mKeyError\u001b[39;00m(key)\n\u001b[0;32m    231\u001b[0m \u001b[39melif\u001b[39;00m \u001b[39misinstance\u001b[39m(key, MeterGroupID):\n\u001b[0;32m    232\u001b[0m     key_meters \u001b[39m=\u001b[39m \u001b[39mset\u001b[39m(key\u001b[39m.\u001b[39mmeters)\n",
      "\u001b[1;31mKeyError\u001b[0m: ElecMeterID(instance=1, building=1, dataset='Senior Design Dataset')"
     ]
    }
   ],
   "source": [
    "import warnings; warnings.filterwarnings('ignore')\n",
    "\n",
    "from nilmtk import DataSet\n",
    "\n",
    "train = DataSet('C:/Users/zebzi/Documents/School/Senior_Year/EE_4951W/SeniorProject/SeniorDataset/h5_files/96HourZEB_test.h5')\n",
    "# except:\n",
    "#     train = DataSet('/SeniorDataset/h5_files/Zeb_test.h5')\n",
    "    \n",
    "train.set_window(start='2022-01-01', end='2022-01-02')\n",
    "train_elec = train.buildings[1].elec"
   ]
  },
  {
   "cell_type": "markdown",
   "metadata": {},
   "source": [
    "Next, we need to define the disaggregator model."
   ]
  },
  {
   "cell_type": "code",
   "execution_count": null,
   "metadata": {},
   "outputs": [],
   "source": [
    "from rnndisaggregator import RNNDisaggregator\n",
    "rnn = RNNDisaggregator()"
   ]
  },
  {
   "cell_type": "markdown",
   "metadata": {},
   "source": [
    "Then train the model. We need to input the train data as well as their sample period. Also, we need to pass the desired number of training epochs. Finally, save the model for later use."
   ]
  },
  {
   "cell_type": "code",
   "execution_count": null,
   "metadata": {},
   "outputs": [],
   "source": [
    "meter_key = 'kettle'\n",
    "# train_mains = train_elec.mains().all_meters()[0] # The aggregated meter that provides the input\n",
    "# train_meter = train_elec.submeters()['microwave'] # The microwave meter that is used as a training target\n",
    "\n",
    "train_meter = train_elec.submeters()[meter_key]\n",
    "# train_meter = train_elec.submeters()\n",
    "train_mains = train_elec.mains()\n",
    "print(train_elec.submeters())\n",
    "print(train_elec.mains())\n",
    "\n",
    "rnn.train(train_mains, train_meter, epochs=1, sample_period=1)\n",
    "# rnn.train(train_mains, train_meter['toaster'], epochs=1, sample_period=1)\n",
    "rnn.export_model(\"model-Zeb_96Hour_Day1.h5\")\n",
    "# rnn.import_model(\"model-Zeb_test.h5\")"
   ]
  },
  {
   "cell_type": "markdown",
   "metadata": {},
   "source": [
    "Now that the model is trained, we can use it to disaggregate energy data. Let's test it on the rest of the data from building 1.\n",
    "\n",
    "First we use the model to predict the microwave consumption. The results are saved automatically in a .h5 datastore."
   ]
  },
  {
   "cell_type": "code",
   "execution_count": null,
   "metadata": {},
   "outputs": [],
   "source": [
    "# Configure the <test> dataset and set the test_mains variable\n",
    "test = DataSet('C:/Users/zebzi/Documents/School/Senior_Year/EE_4951W/SeniorProject/SeniorDataset/h5_files/96Hour.h5')\n",
    "# test = DataSet(\"ukdale.h5\")\n",
    "\n",
    "# test.set_window(start=\"1-1-2014\", end=\"1-4-2014\")\n",
    "test.set_window(start='2022-01-03', end='2022-01-04')\n",
    "print(test.buildings[1].elec)\n",
    "test_elec = test.buildings[1].elec\n",
    "# test_mains = test_elec.mains().all_meters()[0]\n",
    "test_mains = test_elec.mains()\n",
    "# print(test_mains)\n",
    "\n"
   ]
  },
  {
   "cell_type": "code",
   "execution_count": null,
   "metadata": {},
   "outputs": [],
   "source": [
    "\n",
    "disag_filename = 'disag-out_96Hour_Day4.h5' # The filename of the resulting datastore\n",
    "from nilmtk.datastore import HDFDataStore\n",
    "output = HDFDataStore(disag_filename, 'w')\n",
    "\n",
    "# test_mains: The aggregated signal meter\n",
    "# output: The output datastore\n",
    "# train_meter: This is used in order to copy the metadata of the train meter into the datastore\n",
    "rnn.disaggregate(test_mains, output, train_meter, sample_period=1)\n",
    "output.close()\n",
    "# output = HDFDataStore(disag_filename, 'r') why is this code here?\n",
    "\n"
   ]
  },
  {
   "cell_type": "markdown",
   "metadata": {},
   "source": [
    "Let's plot the results and compare them to the ground truth signal.\n",
    "\n",
    "**Note:** Calling plot this way, downsamples the signal to reduce computing time. To plot the entire signal call\n",
    "```\n",
    "predicted.power_series_all_data().plot()\n",
    "ground_truth.power_series_all_data().plot()\n",
    "```"
   ]
  },
  {
   "cell_type": "code",
   "execution_count": null,
   "metadata": {},
   "outputs": [],
   "source": [
    "result = DataSet(disag_filename)\n",
    "res_elec = result.buildings[1].elec\n",
    "print(res_elec)\n",
    "predicted = res_elec['kettle']\n",
    "ground_truth = test_elec['kettle']\n",
    "\n",
    "import matplotlib.pyplot as plt\n",
    "predicted.plot(plot_kwargs={'color':'red', 'label':'Predicted'})\n",
    "ground_truth.plot(plot_kwargs={'color':'green', 'label':'Ground Truth'})\n",
    "plt.show()"
   ]
  },
  {
   "cell_type": "markdown",
   "metadata": {},
   "source": [
    "Finally let's see the metric results."
   ]
  },
  {
   "cell_type": "code",
   "execution_count": null,
   "metadata": {},
   "outputs": [],
   "source": [
    "import metrics\n",
    "rpaf = metrics.recall_precision_accuracy_f1(predicted, ground_truth)\n",
    "print(\"============ Recall: {}\".format(rpaf[0]))\n",
    "print(\"============ Precision: {}\".format(rpaf[1]))\n",
    "print(\"============ Accuracy: {}\".format(rpaf[2]))\n",
    "print(\"============ F1 Score: {}\".format(rpaf[3]))\n",
    "\n",
    "print(\"============ Relative error in total energy: {}\".format(metrics.relative_error_total_energy(predicted, ground_truth)))\n",
    "print(\"============ Mean absolute error(in Watts): {}\".format(metrics.mean_absolute_error(predicted, ground_truth)))"
   ]
  },
  {
   "cell_type": "code",
   "execution_count": null,
   "metadata": {},
   "outputs": [],
   "source": [
    "predicted.plot()"
   ]
  },
  {
   "cell_type": "code",
   "execution_count": null,
   "metadata": {},
   "outputs": [],
   "source": [
    "ground_truth.plot()"
   ]
  }
 ],
 "metadata": {
  "anaconda-cloud": {},
  "kernelspec": {
   "display_name": "Python 3.8.13 ('nilmWork')",
   "language": "python",
   "name": "python3"
  },
  "language_info": {
   "codemirror_mode": {
    "name": "ipython",
    "version": 3
   },
   "file_extension": ".py",
   "mimetype": "text/x-python",
   "name": "python",
   "nbconvert_exporter": "python",
   "pygments_lexer": "ipython3",
   "version": "3.8.13"
  },
  "vscode": {
   "interpreter": {
    "hash": "090649b4642754db491605a7822e0ee72996d5555d9c4842996866e4da46c183"
   }
  }
 },
 "nbformat": 4,
 "nbformat_minor": 2
}
