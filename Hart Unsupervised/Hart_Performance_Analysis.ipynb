{
 "cells": [
  {
   "cell_type": "markdown",
   "id": "74690c45",
   "metadata": {},
   "source": [
    "# Import and Initialize"
   ]
  },
  {
   "cell_type": "code",
   "execution_count": 1,
   "id": "0cdce743",
   "metadata": {},
   "outputs": [],
   "source": [
    "from __future__ import print_function\n",
    "import numpy as np\n",
    "import pandas as pd\n",
    "from pylab import rcParams\n",
    "import matplotlib.pyplot as plt\n",
    "from nilmtk import DataSet, TimeFrame, MeterGroup, HDFDataStore\n",
    "from nilmtk.legacy.disaggregate import CombinatorialOptimisation\n",
    "from nilmtk.utils import print_dict\n",
    "from nilmtk.metrics import f1_score, rms_error_power, mean_normalized_error_power\n",
    "from nilmtk.legacy.disaggregate.hart_85 import Hart85\n",
    "\n",
    "%matplotlib inline\n",
    "rcParams['figure.figsize'] = (13, 6)"
   ]
  },
  {
   "cell_type": "markdown",
   "id": "271cd5eb",
   "metadata": {},
   "source": [
    "# Load Data"
   ]
  },
  {
   "cell_type": "code",
   "execution_count": 80,
   "id": "b8eed3c5",
   "metadata": {},
   "outputs": [],
   "source": [
    "test_data = DataSet('../SeniorDataset/h5_files/96Hour_30Second.h5')\n",
    "train_data = DataSet('../SeniorDataset/h5_files/96Hour_30Second.h5')\n",
    "\n",
    "# train_data.set_window(start='2022-01-01T00', end='2022-01-02T23') #48 hr\n",
    "# train_data.set_window(start='2022-01-01T00', end='2022-01-02T00') #24 hr\n",
    "# train_data.set_window(start='2022-01-02T00', end='2022-01-02T12') #12 hr\n",
    "# train_data.set_window(start='2022-01-01T08', end='2022-01-01T12') #4 hr\n",
    "# train_data.set_window(start='2022-01-02T00', end='2022-01-02T01') #1 hr\n",
    "# train_data.set_window(start='2022-01-01T0430', end='2022-01-01T0500') #30 min\n",
    "\n",
    "train_elec = train_data.buildings[1].elec\n",
    "train_mains = train_elec.mains()\n",
    "train_submeters = train_elec.submeters()\n",
    "\n",
    "# test_data.set_window(start='2022-01-03T00', end='2022-01-04T23') #48 hr\n",
    "# test_data.set_window(start='2022-01-03T00', end='2022-01-04T00') #24 hr\n",
    "# test_data.set_window(start='2022-01-04T00', end='2022-01-04T12') #12 hr\n",
    "# test_data.set_window(start='2022-01-03T08', end='2022-01-03T12') #4 hr\n",
    "# test_data.set_window(start='2022-01-03T08', end='2022-01-03T09') #1 hr\n",
    "# test_data.set_window(start='2022-01-03T0230', end='2022-01-03T0300') #30 min\n",
    "\n",
    "test_elec = test_data.buildings[1].elec\n",
    "test_mains = test_elec.mains()\n",
    "test_submeters = test_elec.submeters()\n",
    "\n",
    "h = Hart85()"
   ]
  },
  {
   "cell_type": "markdown",
   "id": "358b3623",
   "metadata": {},
   "source": [
    "# Train Hart85 Model"
   ]
  },
  {
   "cell_type": "code",
   "execution_count": null,
   "id": "844ef9da",
   "metadata": {},
   "outputs": [],
   "source": [
    "h.train(train_mains, columns=[('power', 'apparent')], buffer_size=100)"
   ]
  },
  {
   "cell_type": "markdown",
   "id": "964f3599",
   "metadata": {},
   "source": [
    "# Disaggregate"
   ]
  },
  {
   "cell_type": "code",
   "execution_count": 67,
   "id": "074f579e",
   "metadata": {},
   "outputs": [],
   "source": [
    "filename = 'output6.h5'"
   ]
  },
  {
   "cell_type": "code",
   "execution_count": null,
   "id": "970ca857",
   "metadata": {},
   "outputs": [],
   "source": [
    "output = HDFDataStore(filename, 'w')\n",
    "df = h.disaggregate(test_mains, output, sample_period=60)\n",
    "output.close()"
   ]
  },
  {
   "cell_type": "markdown",
   "id": "927fb9f7",
   "metadata": {},
   "source": [
    "# Visualize the Data"
   ]
  },
  {
   "cell_type": "code",
   "execution_count": null,
   "id": "430ac147",
   "metadata": {},
   "outputs": [],
   "source": [
    "#Hart is unsupervised\n",
    "h.best_matched_appliance(test_submeters, df)\n",
    "instance_dict = {2: 'fridge', 3: 'kettle', 4: 'microwave', 5: 'toaster', 6: 'hair dryer', 7: 'slow cooker'}"
   ]
  },
  {
   "cell_type": "code",
   "execution_count": null,
   "id": "c6e1a6fb",
   "metadata": {},
   "outputs": [],
   "source": [
    "instance = 2\n",
    "\n",
    "df_index = 0\n",
    "df_pred = next(test_elec[instance_dict[instance], 1].load())\n",
    "merged_df = pd.merge(df[df_index], df_pred, left_index=True, right_index=True)\n",
    "merged_df[df_index].plot(c='r')\n",
    "merged_df['power', 'apparent'].plot()\n",
    "plt.legend([\"Predicted\", \"Ground truth\"])\n",
    "plt.ylabel(\"Power (W)\")\n",
    "plt.xlabel(\"Time\")"
   ]
  },
  {
   "cell_type": "code",
   "execution_count": null,
   "id": "000beb67",
   "metadata": {},
   "outputs": [],
   "source": [
    "instance = 7\n",
    "\n",
    "df_index = 0\n",
    "df_pred = next(test_elec[instance_dict[instance], 1].load())\n",
    "merged_df = pd.merge(df[df_index], df_pred, left_index=True, right_index=True)\n",
    "merged_df[df_index].plot(c='r')\n",
    "merged_df['power', 'apparent'].plot()\n",
    "plt.legend([\"Predicted\", \"Ground truth\"])\n",
    "plt.ylabel(\"Power (W)\")\n",
    "plt.xlabel(\"Time\")"
   ]
  },
  {
   "cell_type": "markdown",
   "id": "346c009f",
   "metadata": {},
   "source": [
    "# Statistical Performance Metrics"
   ]
  },
  {
   "cell_type": "code",
   "execution_count": null,
   "id": "ac228517",
   "metadata": {},
   "outputs": [],
   "source": [
    "prediction_data = DataSet(filename)\n",
    "\n",
    "predictions_metergroup = prediction_data.buildings[1].elec\n",
    "ground_truth_metergroup = test_elec\n",
    "\n",
    "# print(predictions_metergroup)\n",
    "# print(ground_truth_metergroup)\n",
    "\n",
    "f1 = f1_score(predictions_metergroup, ground_truth_metergroup)\n",
    "mnp = mean_normalized_error_power(predictions_metergroup, ground_truth_metergroup)\n",
    "rmse = rms_error_power(predictions_metergroup, ground_truth_metergroup)"
   ]
  },
  {
   "cell_type": "code",
   "execution_count": null,
   "id": "78e52b69",
   "metadata": {},
   "outputs": [],
   "source": [
    "print('F1:')\n",
    "print(f1)"
   ]
  },
  {
   "cell_type": "code",
   "execution_count": null,
   "id": "50252576",
   "metadata": {},
   "outputs": [],
   "source": [
    "print(\"Mean Normalized Error Power:\")\n",
    "print(mnp)\n",
    "print(\"RMSE:\")\n",
    "print(rmse)"
   ]
  }
 ],
 "metadata": {
  "kernelspec": {
   "display_name": "Python 3.7.12 ('nilmtk2')",
   "language": "python",
   "name": "python3"
  },
  "language_info": {
   "codemirror_mode": {
    "name": "ipython",
    "version": 3
   },
   "file_extension": ".py",
   "mimetype": "text/x-python",
   "name": "python",
   "nbconvert_exporter": "python",
   "pygments_lexer": "ipython3",
   "version": "3.7.12"
  },
  "vscode": {
   "interpreter": {
    "hash": "496e8adcada3f711906a9b1366f5186d0a76dae7ee011fd61c793b00bd5deed1"
   }
  }
 },
 "nbformat": 4,
 "nbformat_minor": 5
}
